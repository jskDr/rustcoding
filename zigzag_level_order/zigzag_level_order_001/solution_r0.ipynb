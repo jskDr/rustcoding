{
 "cells": [
  {
   "cell_type": "code",
   "execution_count": 2,
   "id": "fa2dfcae",
   "metadata": {
    "vscode": {
     "languageId": "rust"
    }
   },
   "outputs": [
    {
     "name": "stdout",
     "output_type": "stream",
     "text": [
      "Random number: 90\n"
     ]
    }
   ],
   "source": [
    "// 먼저 패키지 추가 (최초 1회만 하면 됨, 이후 동일 노트북 내에서는 캐시 사용됨)\n",
    ":dep rand = \"0.8\"\n",
    "\n",
    "use rand::Rng;\n",
    "\n",
    "let mut rng = rand::thread_rng();\n",
    "let random_number: u32 = rng.gen_range(0..100);\n",
    "\n",
    "println!(\"Random number: {}\", random_number);\n"
   ]
  },
  {
   "cell_type": "code",
   "execution_count": 4,
   "id": "5edffd19",
   "metadata": {
    "vscode": {
     "languageId": "rust"
    }
   },
   "outputs": [
    {
     "name": "stdout",
     "output_type": "stream",
     "text": [
      "Random number: 36\n"
     ]
    }
   ],
   "source": [
    "use rand::Rng;\n",
    "\n",
    "let mut rng = rand::thread_rng();\n",
    "let random_number: u32 = rng.gen_range(0..100);\n",
    "\n",
    "println!(\"Random number: {}\", random_number);"
   ]
  },
  {
   "cell_type": "code",
   "execution_count": 5,
   "id": "36a4b7c7",
   "metadata": {
    "vscode": {
     "languageId": "rust"
    }
   },
   "outputs": [
    {
     "name": "stdout",
     "output_type": "stream",
     "text": [
      "Random number: 48\n"
     ]
    }
   ],
   "source": [
    "let mut rng = rand::thread_rng();\n",
    "let random_number: u32 = rng.gen_range(0..100);\n",
    "\n",
    "println!(\"Random number: {}\", random_number);"
   ]
  },
  {
   "cell_type": "code",
   "execution_count": null,
   "id": "10dd9e5c",
   "metadata": {
    "vscode": {
     "languageId": "rust"
    }
   },
   "outputs": [],
   "source": []
  }
 ],
 "metadata": {
  "kernelspec": {
   "display_name": "Rust",
   "language": "rust",
   "name": "rust"
  },
  "language_info": {
   "codemirror_mode": "rust",
   "file_extension": ".rs",
   "mimetype": "text/rust",
   "name": "Rust",
   "pygment_lexer": "rust",
   "version": ""
  }
 },
 "nbformat": 4,
 "nbformat_minor": 5
}
