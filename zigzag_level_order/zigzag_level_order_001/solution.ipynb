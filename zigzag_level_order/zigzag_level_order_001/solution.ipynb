{
 "cells": [
  {
   "cell_type": "code",
   "execution_count": 2,
   "id": "10dd9e5c",
   "metadata": {
    "vscode": {
     "languageId": "rust"
    }
   },
   "outputs": [
    {
     "name": "stdout",
     "output_type": "stream",
     "text": [
      "shape: (5, 2)\n",
      "┌──────┬────────┐\n",
      "│ ints ┆ floats │\n",
      "│ ---  ┆ ---    │\n",
      "│ i32  ┆ f64    │\n",
      "╞══════╪════════╡\n",
      "│ 1    ┆ 1.0    │\n",
      "│ 2    ┆ 2.0    │\n",
      "│ 3    ┆ 3.0    │\n",
      "│ 4    ┆ 4.0    │\n",
      "│ 5    ┆ 5.0    │\n",
      "└──────┴────────┘\n"
     ]
    }
   ],
   "source": [
    "// heavy dependency 예제: polars\n",
    ":dep polars = { version = \"0.38\", features = [\"lazy\", \"parquet\"] }\n",
    "\n",
    "use polars::prelude::*;\n",
    "\n",
    "fn create_dataframe() -> DataFrame {\n",
    "    let s1 = Series::new(\"ints\", &[1, 2, 3, 4, 5]);\n",
    "    let s2 = Series::new(\"floats\", &[1.0, 2.0, 3.0, 4.0, 5.0]);\n",
    "    DataFrame::new(vec![s1, s2]).unwrap()\n",
    "}\n",
    "\n",
    "let df = create_dataframe();\n",
    "println!(\"{:?}\", df);"
   ]
  },
  {
   "cell_type": "code",
   "execution_count": 4,
   "id": "a5f51775",
   "metadata": {
    "vscode": {
     "languageId": "rust"
    }
   },
   "outputs": [
    {
     "name": "stdout",
     "output_type": "stream",
     "text": [
      "shape: (5, 2)\n",
      "┌──────┬────────┐\n",
      "│ ints ┆ floats │\n",
      "│ ---  ┆ ---    │\n",
      "│ i32  ┆ f64    │\n",
      "╞══════╪════════╡\n",
      "│ 1    ┆ 1.0    │\n",
      "│ 2    ┆ 2.0    │\n",
      "│ 3    ┆ 3.0    │\n",
      "│ 4    ┆ 4.0    │\n",
      "│ 5    ┆ 5.0    │\n",
      "└──────┴────────┘\n"
     ]
    }
   ],
   "source": [
    "\n",
    "use polars::prelude::*;\n",
    "\n",
    "fn create_dataframe() -> DataFrame {\n",
    "    let s1 = Series::new(\"ints\", &[1, 2, 3, 4, 5]);\n",
    "    let s2 = Series::new(\"floats\", &[1.0, 2.0, 3.0, 4.0, 5.0]);\n",
    "    DataFrame::new(vec![s1, s2]).unwrap()\n",
    "}\n",
    "\n",
    "let df = create_dataframe();\n",
    "println!(\"{:?}\", df);"
   ]
  },
  {
   "cell_type": "code",
   "execution_count": 5,
   "id": "5309876a",
   "metadata": {
    "vscode": {
     "languageId": "rust"
    }
   },
   "outputs": [
    {
     "name": "stdout",
     "output_type": "stream",
     "text": [
      "shape: (5, 2)\n",
      "┌──────┬────────┐\n",
      "│ ints ┆ floats │\n",
      "│ ---  ┆ ---    │\n",
      "│ i32  ┆ f64    │\n",
      "╞══════╪════════╡\n",
      "│ 1    ┆ 1.0    │\n",
      "│ 2    ┆ 2.0    │\n",
      "│ 3    ┆ 3.0    │\n",
      "│ 4    ┆ 4.0    │\n",
      "│ 5    ┆ 5.0    │\n",
      "└──────┴────────┘\n"
     ]
    }
   ],
   "source": [
    "let df = create_dataframe();\n",
    "println!(\"{:?}\", df);"
   ]
  },
  {
   "cell_type": "code",
   "execution_count": null,
   "id": "d4aec02f",
   "metadata": {
    "vscode": {
     "languageId": "rust"
    }
   },
   "outputs": [],
   "source": []
  }
 ],
 "metadata": {
  "kernelspec": {
   "display_name": "Rust",
   "language": "rust",
   "name": "rust"
  },
  "language_info": {
   "codemirror_mode": "rust",
   "file_extension": ".rs",
   "mimetype": "text/rust",
   "name": "Rust",
   "pygment_lexer": "rust",
   "version": ""
  }
 },
 "nbformat": 4,
 "nbformat_minor": 5
}
