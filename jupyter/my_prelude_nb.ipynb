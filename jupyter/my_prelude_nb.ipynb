{
 "cells": [
  {
   "cell_type": "code",
   "execution_count": 2,
   "id": "3144830f",
   "metadata": {},
   "outputs": [],
   "source": [
    ":dep nb_prelude = { path = \"/Users/sungjinkim/Data/github_clone/rustcoding/jupyter/nb_prelude\" }"
   ]
  },
  {
   "cell_type": "code",
   "execution_count": 13,
   "id": "197be6e4",
   "metadata": {},
   "outputs": [
    {
     "name": "stdout",
     "output_type": "stream",
     "text": [
      "shape: (3,)\n",
      "Series: '' [i32]\n",
      "[\n",
      "\t1\n",
      "\t2\n",
      "\t3\n",
      "]\n"
     ]
    }
   ],
   "source": [
    "use polars::prelude::*;\n",
    "\n",
    "let series: Series = [1, 2, 3].iter().collect();\n",
    "\n",
    "\n",
    "println!(\"{:?}\", series);"
   ]
  },
  {
   "cell_type": "code",
   "execution_count": null,
   "id": "da3eebd2",
   "metadata": {},
   "outputs": [],
   "source": []
  }
 ],
 "metadata": {
  "kernelspec": {
   "display_name": "Rust",
   "language": "rust",
   "name": "rust"
  },
  "language_info": {
   "codemirror_mode": "rust",
   "file_extension": ".rs",
   "mimetype": "text/rust",
   "name": "rust",
   "pygment_lexer": "rust",
   "version": ""
  }
 },
 "nbformat": 4,
 "nbformat_minor": 5
}
