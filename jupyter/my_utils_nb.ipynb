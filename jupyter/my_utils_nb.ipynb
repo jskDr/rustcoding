{
 "cells": [
  {
   "cell_type": "code",
   "execution_count": 2,
   "id": "3144830f",
   "metadata": {},
   "outputs": [],
   "source": [
    ":dep my_utils = { path = \"/Users/sungjinkim/Data/github_clone/rustcoding/jupyter/my_utils\" }"
   ]
  },
  {
   "cell_type": "code",
   "execution_count": 3,
   "id": "b5814cff",
   "metadata": {},
   "outputs": [
    {
     "name": "stdout",
     "output_type": "stream",
     "text": [
      "Hello, Alice! Welcome to the local library.\n",
      "Slow calculation finished!\n"
     ]
    }
   ],
   "source": [
    "let message = my_utils::greet(\"Alice\");\n",
    "println!(\"{}\", message);\n",
    "\n",
    "my_utils::slow_calculation();"
   ]
  },
  {
   "cell_type": "code",
   "execution_count": null,
   "id": "de4f77e5",
   "metadata": {},
   "outputs": [],
   "source": []
  }
 ],
 "metadata": {
  "kernelspec": {
   "display_name": "Rust",
   "language": "rust",
   "name": "rust"
  },
  "language_info": {
   "codemirror_mode": "rust",
   "file_extension": ".rs",
   "mimetype": "text/rust",
   "name": "rust",
   "pygment_lexer": "rust",
   "version": ""
  }
 },
 "nbformat": 4,
 "nbformat_minor": 5
}
