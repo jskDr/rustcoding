{
 "cells": [
  {
   "cell_type": "code",
   "execution_count": 4,
   "id": "cf59a38f",
   "metadata": {
    "vscode": {
     "languageId": "rust"
    }
   },
   "outputs": [],
   "source": [
    "let a = 1;"
   ]
  },
  {
   "cell_type": "code",
   "execution_count": 5,
   "id": "b9c032d6",
   "metadata": {
    "vscode": {
     "languageId": "rust"
    }
   },
   "outputs": [],
   "source": [
    "let b = &a + 1;"
   ]
  },
  {
   "cell_type": "code",
   "execution_count": 6,
   "id": "cb159a2c",
   "metadata": {
    "vscode": {
     "languageId": "rust"
    }
   },
   "outputs": [],
   "source": [
    "let c = a + b;"
   ]
  },
  {
   "cell_type": "code",
   "execution_count": 7,
   "id": "3db2d2eb-9e4e-451a-ad0f-bfba761929da",
   "metadata": {},
   "outputs": [
    {
     "data": {
      "text/plain": [
       "3"
      ]
     },
     "execution_count": 7,
     "metadata": {},
     "output_type": "execute_result"
    }
   ],
   "source": [
    "c"
   ]
  },
  {
   "cell_type": "code",
   "execution_count": null,
   "id": "56b9b2b5-0095-4fce-a8a5-67870688f3b4",
   "metadata": {},
   "outputs": [],
   "source": []
  }
 ],
 "metadata": {
  "kernelspec": {
   "display_name": "Rust",
   "language": "rust",
   "name": "rust"
  },
  "language_info": {
   "codemirror_mode": "rust",
   "file_extension": ".rs",
   "mimetype": "text/rust",
   "name": "Rust",
   "pygment_lexer": "rust",
   "version": ""
  }
 },
 "nbformat": 4,
 "nbformat_minor": 5
}
