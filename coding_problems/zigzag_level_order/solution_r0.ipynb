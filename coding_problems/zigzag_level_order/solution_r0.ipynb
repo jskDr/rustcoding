{
 "cells": [
  {
   "cell_type": "code",
   "execution_count": null,
   "id": "fa2dfcae",
   "metadata": {},
   "outputs": [
    {
     "ename": "",
     "evalue": "",
     "output_type": "error",
     "traceback": [
      "\u001b[1;31mFailed to start the Kernel. \n",
      "\u001b[1;31mError: Failed to load the project at /var/folders/gk/p4_3r0mx273gvk3vq13wg84h0000gn/T/.tmp0qZC2i/Cargo.toml. \n",
      "\u001b[1;31mView Jupyter <a href='command:jupyter.viewOutput'>log</a> for further details."
     ]
    }
   ],
   "source": [
    "// 먼저 패키지 추가 (최초 1회만 하면 됨, 이후 동일 노트북 내에서는 캐시 사용됨)\n",
    ":dep rand = \"0.8\"\n",
    "\n",
    "use rand::Rng;\n",
    "\n",
    "let mut rng = rand::thread_rng();\n",
    "let random_number: u32 = rng.gen_range(0..100);\n",
    "\n",
    "println!(\"Random number: {}\", random_number);\n"
   ]
  },
  {
   "cell_type": "code",
   "execution_count": 4,
   "id": "5edffd19",
   "metadata": {},
   "outputs": [
    {
     "name": "stdout",
     "output_type": "stream",
     "text": [
      "Random number: 36\n"
     ]
    }
   ],
   "source": [
    "use rand::Rng;\n",
    "\n",
    "let mut rng = rand::thread_rng();\n",
    "let random_number: u32 = rng.gen_range(0..100);\n",
    "\n",
    "println!(\"Random number: {}\", random_number);"
   ]
  },
  {
   "cell_type": "code",
   "execution_count": 5,
   "id": "36a4b7c7",
   "metadata": {},
   "outputs": [
    {
     "name": "stdout",
     "output_type": "stream",
     "text": [
      "Random number: 48\n"
     ]
    }
   ],
   "source": [
    "let mut rng = rand::thread_rng();\n",
    "let random_number: u32 = rng.gen_range(0..100);\n",
    "\n",
    "println!(\"Random number: {}\", random_number);"
   ]
  },
  {
   "cell_type": "code",
   "execution_count": null,
   "id": "10dd9e5c",
   "metadata": {},
   "outputs": [],
   "source": []
  }
 ],
 "metadata": {
  "kernelspec": {
   "display_name": "Rust",
   "language": "rust",
   "name": "rust"
  },
  "language_info": {
   "codemirror_mode": "rust",
   "file_extension": ".rs",
   "mimetype": "text/rust",
   "name": "rust",
   "pygment_lexer": "rust",
   "version": ""
  }
 },
 "nbformat": 4,
 "nbformat_minor": 5
}
